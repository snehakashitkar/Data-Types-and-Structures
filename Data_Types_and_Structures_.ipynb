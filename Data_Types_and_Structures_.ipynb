{
  "nbformat": 4,
  "nbformat_minor": 0,
  "metadata": {
    "colab": {
      "provenance": []
    },
    "kernelspec": {
      "name": "python3",
      "display_name": "Python 3"
    },
    "language_info": {
      "name": "python"
    }
  },
  "cells": [
    {
      "cell_type": "markdown",
      "source": [
        "#What are data structures, and why are they important4\n",
        "\n",
        "1.What are data structures, and why are they important?\n",
        "  - Data Structures: The Foundation of Efficient Programming\n",
        "\n",
        "Data structures are specialized formats for organizing and storing data in computers. They're like blueprints that dictate how data is arranged and accessed, significantly influencing the efficiency and performance of computer programs.\n",
        "\n",
        "\n",
        "2.Explain the difference between mutable and immutable data types with examples\n",
        "  - Mutable vs. Immutable Data Types\n",
        "\n",
        "In Python, data types are classified into two categories: mutable and immutable. This distinction determines whether the value of an object can be changed after it's created.\n",
        "\n",
        "Mutable Data Types\n",
        "\n",
        "Definition: Mutable data types can be modified after they are created. This means you can add, remove, or change elements within the object without creating a new object.\n",
        "\n",
        "\n",
        "3. What are the main differences between lists and tuples in Python.\n",
        "   - Lists\n",
        "\n",
        "Mutable: Elements can be added, removed, or changed after creation.\n",
        "Syntax: Enclosed in square brackets [].\n",
        "Use Cases: Dynamic data that needs frequent modifications.\n",
        "Tuples\n",
        "\n",
        "Immutable: Elements cannot be changed once created.\n",
        "Syntax: Enclosed in parentheses ().\n",
        "Use Cases: Data that should remain constant, like coordinates or database records.\n",
        "\n",
        "\n",
        "4.Describe how dictionaries store data?\n",
        "  - Dictionaries: A Key-Value Store\n",
        "\n",
        "Dictionaries in Python are like real-world dictionaries: they store information in key-value pairs. Each key is unique, and it's associated with a corresponding value.\n",
        "\n",
        "5.Why might you use a set instead of a list in Python\n",
        "  - Uniqueness: Sets inherently ensure that each element is unique. If you need to eliminate duplicates from a collection, a set is ideal.\n",
        "Fast Membership Testing: Checking if an element exists within a set is incredibly fast due to their underlying hash table implementation.\n",
        "Set Operations: Sets support efficient mathematical set operations like union, intersection, difference, and symmetric difference, which are often useful for data analysis and manipulation.\n",
        "\n",
        "\n",
        "6. What is a string in Python, and how is it different from a list\n",
        "   - Strings\n",
        "\n",
        "Immutable: Cannot be changed after creation.\n",
        "Characters: A sequence of characters.\n",
        "Lists\n",
        "\n",
        "Mutable: Can be modified (add, remove, change elements).\n",
        "Any Data Type: Can hold any type of data.\n",
        "\n",
        "\n",
        "7. How do tuples ensure data integrity in Python\n",
        "   - Tuples and Data Integrity in Python\n",
        "\n",
        "Tuples in Python play a crucial role in ensuring data integrity due to their immutability. This means that once a tuple is created, its elements cannot be changed, added, or removed. This characteristic provides several advantages:\n",
        "\n",
        "Data Protection: Immutability prevents accidental or intentional modifications to the tuple's contents, safeguarding the integrity of the data.\n",
        "Read-Only Data: Tuples are ideal for representing data that should remain constant, such as configuration settings, database records, or coordinates.\n",
        "\n",
        "\n",
        "\n",
        "8.What is a hash table, and how does it relate to dictionaries in Python\n",
        "  - Hash Tables: A Foundation for Efficient Data Retrieval\n",
        "\n",
        "A hash table is a data structure that uses a hash function to map keys to specific locations (indices) within an array. This allows for very fast data retrieval, insertion, and deletion operations.\n",
        "\n",
        "How Hash Tables Work:\n",
        "\n",
        "Hash Function:\n",
        "\n",
        "A hash function takes a key as input and generates a hash value (an integer).\n",
        "This hash value is then used to determine the index in the array where the key-value pair will be stored.\n",
        "Array of Buckets:\n",
        "\n",
        "The hash table consists of an array of buckets (or slots).\n",
        "The hash value of a key determines which bucket it belongs to.\n",
        "\n",
        "\n",
        "9.Can lists contain different data types in Python\n",
        "  - Yes, lists in Python can contain elements of different data types. 1  This makes them very versatile for storing and organizing various kinds of information.\n",
        "\n",
        "  my_list = [10, \"hello\", 3.14, True]\n",
        "\n",
        "10.Explain why strings are immutable in Python\n",
        "   - Data Integrity: Ensures that string values remain constant, preventing accidental or intentional modifications. This is crucial for situations where data integrity is paramount, such as in security contexts or when using strings as keys in dictionaries.\n",
        "\n",
        "Caching and Performance: Immutability allows Python to efficiently cache and reuse string objects. Since the value of a string never changes, the same string object can be reused multiple times, saving memory and improving performance.\n",
        "\n",
        "\n",
        "11.What advantages do dictionaries offer over lists for certain tasks\n",
        "  - Fast Lookups:Dictionaries use hash tables for efficient key-based lookups. This means accessing a value associated with a specific key is typically an O(1) operation (constant time), regardless of the dictionary's size.\n",
        "Lists require iterating through elements to find a specific value, resulting in O(n) time complexity (linear time), where 'n' is the number of elements in the list.\n",
        "Associative Data:\n",
        "\n",
        "Dictionaries store data as key-value pairs, making them ideal for representing relationships between different pieces of information. For example, a dictionary could map student names to their grades, or product IDs to their prices.\n",
        "Lists primarily store a sequence of values, making it less intuitive to associate data with specific identifiers.\n",
        "\n",
        "\n",
        "12.Describe a scenario where using a tuple would be preferable over a list?\n",
        "  - Immutability: Difficulty levels should remain constant throughout the game. Using tuples prevents accidental modification of these settings, ensuring consistent gameplay.\n",
        "Readability: Tuples clearly convey that these values are fixed and should not be changed.\n",
        "Hashing: If you need to use these difficulty levels as keys in a dictionary (e.g., to map difficulty names to their settings), tuples are suitable because they are hashable due to their immutability.\n",
        "\n",
        "\n",
        "13.How do sets handle duplicate values in Python\n",
        "   - Sets in Python inherently handle duplicate values by automatically removing them.\n",
        "\n",
        "Here's how it works:\n",
        "\n",
        "Unique Elements: When you create a set, any duplicate elements are automatically discarded.\n",
        "No Order: Sets are unordered collections, meaning the order of elements is not guaranteed.\n",
        "\n",
        "\n",
        "14.How does the “in” keyword work differently for lists and dictionaries\n",
        "  - The in keyword in Python works differently for lists and dictionaries due to their underlying data structures:\n",
        "\n",
        "Lists:\n",
        "\n",
        "Sequential Search: The in keyword performs a linear search through the list to check if a specific value exists.\n",
        "Time Complexity: The time complexity of this search is O(n), where 'n' is the number of elements in the list. This means that the search time can increase proportionally with the size of the list.\n",
        "\n",
        "\n",
        "15.Can you modify the elements of a tuple? Explain why or why not\n",
        "   - No, you cannot directly modify the elements of a tuple in Python.\n",
        "\n",
        "Why?\n",
        "\n",
        "Immutability: Tuples are designed to be immutable, meaning their contents cannot be changed after they are created. This is a fundamental characteristic of tuples.\n",
        "Attempting to Modify a Tuple:\n",
        "\n",
        "If you try to modify an element of a tuple using assignment, you will encounter a TypeError.\n",
        "\n",
        "\n",
        "16.What is a nested dictionary, and give an example of its use case\n",
        "  - Nested Dictionaries\n",
        "\n",
        "A nested dictionary in Python is a dictionary where the values associated with keys are themselves dictionaries. This creates a hierarchical structure for organizing complex data\n",
        "\n",
        "\n",
        "\n",
        "17.Describe the time complexity of accessing elements in a dictionary\n",
        "  - The time complexity of accessing elements in a Python dictionary is typically O(1), which means it's constant time. This means that the time taken to retrieve a value by its key is generally independent of the size of the dictionary.\n",
        "\n",
        "Why O(1)?\n",
        "\n",
        "Hash Tables: Python dictionaries are implemented using hash tables. A hash table uses a hash function to map keys to specific locations (indices) within an array. This allows for very fast data retrieval.\n",
        "\n",
        "18.In what situations are lists preferred over dictionaries\n",
        "  - Order Matters: Lists maintain the order of elements, while dictionaries do not. If the order of elements is crucial for your application, lists are the better choice.\n",
        "\n",
        "Example: Storing a sequence of instructions, a chronological list of events, or displaying items in a specific order.\n",
        "Duplicates are Allowed: Lists can contain duplicate elements, while dictionaries cannot have duplicate keys. If you need to store multiple occurrences of the same value, a list is appropriate.\n",
        "\n",
        "19.Why are dictionaries considered unordered, and how does that affect data retrieval\n",
        " - Dictionaries in Python are considered unordered because they do not maintain any inherent order of the items based on when they were added. This means that when you access or print the items, the order could vary, as dictionaries are optimized for fast lookups rather than maintaining order.\n",
        "\n",
        " 20.E Explain the difference between a list and a dictionary in terms of data retrieval.\n",
        "\n",
        " - Lists: Access elements by their position (index). Slower for large datasets.\n",
        "Dictionaries: Access elements by their unique keys. Significantly faster lookups."
      ],
      "metadata": {
        "id": "C13E8U3i10RE"
      }
    },
    {
      "cell_type": "code",
      "source": [
        "#Data Types and Structures\n",
        "\n",
        "#1.Write a code to create a string with your name and print it\n",
        "\n",
        "my_name = \"sneha\"\n",
        "print(my_name)"
      ],
      "metadata": {
        "colab": {
          "base_uri": "https://localhost:8080/"
        },
        "id": "P1HJlVh3AjgG",
        "outputId": "9d05ca53-ed3e-46d8-a8b4-511e18528614"
      },
      "execution_count": 3,
      "outputs": [
        {
          "output_type": "stream",
          "name": "stdout",
          "text": [
            "sneha\n"
          ]
        }
      ]
    },
    {
      "cell_type": "code",
      "source": [
        "#2.Write a code to find the length of the string \"Hello World\"\n",
        "\n",
        "my_string = \"Hello World\"\n",
        "string_length = len(my_string)\n",
        "\n",
        "print(\"The length of the string is:\", string_length)"
      ],
      "metadata": {
        "colab": {
          "base_uri": "https://localhost:8080/"
        },
        "id": "ZBRtLS8UAt_e",
        "outputId": "9692680f-88be-4a6d-819f-b3d86f2914de"
      },
      "execution_count": 5,
      "outputs": [
        {
          "output_type": "stream",
          "name": "stdout",
          "text": [
            "The length of the string is: 11\n"
          ]
        }
      ]
    },
    {
      "cell_type": "code",
      "source": [
        "#3.Write a code to slice the first 3 characters from the string \"Python Programming\"\n",
        "\n",
        "my_string = \"Python Programming\"\n",
        "sliced_string = my_string[:3]\n",
        "\n",
        "print(\"Sliced string:\", sliced_string)\n"
      ],
      "metadata": {
        "colab": {
          "base_uri": "https://localhost:8080/"
        },
        "id": "uW_nZgBRA_qy",
        "outputId": "848f483a-79c7-4a3e-ae93-3a66d1b53ff0"
      },
      "execution_count": 6,
      "outputs": [
        {
          "output_type": "stream",
          "name": "stdout",
          "text": [
            "Sliced string: Pyt\n"
          ]
        }
      ]
    },
    {
      "cell_type": "code",
      "source": [
        "#4.Write a code to convert the string \"hello\" to uppercase\n",
        "\n",
        "my_string = \"hello\"\n",
        "uppercase_string = my_string.upper()\n",
        "\n",
        "print(uppercase_string)"
      ],
      "metadata": {
        "colab": {
          "base_uri": "https://localhost:8080/"
        },
        "id": "ABM58NonBJ5w",
        "outputId": "4a4a7701-2186-423d-9573-ca18a82d6646"
      },
      "execution_count": 7,
      "outputs": [
        {
          "output_type": "stream",
          "name": "stdout",
          "text": [
            "HELLO\n"
          ]
        }
      ]
    },
    {
      "cell_type": "code",
      "source": [
        "#5.Write a code to replace the word \"apple\" with \"orange\" in the string \"I like apple\"\n",
        "\n",
        "my_string = \"I like apple\"\n",
        "new_string = my_string.replace(\"apple\", \"orange\")\n",
        "\n",
        "print(new_string)"
      ],
      "metadata": {
        "colab": {
          "base_uri": "https://localhost:8080/"
        },
        "id": "Na77_JHGBT1a",
        "outputId": "8c539eb4-754b-4556-9589-783bebe25cc9"
      },
      "execution_count": 8,
      "outputs": [
        {
          "output_type": "stream",
          "name": "stdout",
          "text": [
            "I like orange\n"
          ]
        }
      ]
    },
    {
      "cell_type": "code",
      "source": [
        "#6.Write a code to create a list with numbers 1 to 5 and print it\n",
        "\n",
        "my_list = list(range(1, 6))\n",
        "print(my_list)\n"
      ],
      "metadata": {
        "colab": {
          "base_uri": "https://localhost:8080/"
        },
        "id": "vhPK4XSiBe5n",
        "outputId": "f92fa562-98a0-49af-9cba-cf5ba6e4d24f"
      },
      "execution_count": 9,
      "outputs": [
        {
          "output_type": "stream",
          "name": "stdout",
          "text": [
            "[1, 2, 3, 4, 5]\n"
          ]
        }
      ]
    },
    {
      "cell_type": "code",
      "source": [
        "#7.Write a code to append the number 10 to the list [1, 2, 3, 4]\n",
        "\n",
        "my_list = [1, 2, 3, 4]\n",
        "my_list.append(10)\n",
        "\n",
        "print(my_list)\n",
        "\n"
      ],
      "metadata": {
        "colab": {
          "base_uri": "https://localhost:8080/"
        },
        "id": "uIymSxEYBlXA",
        "outputId": "d2e112f1-8ba4-4c58-fd06-12e3312c5aac"
      },
      "execution_count": 10,
      "outputs": [
        {
          "output_type": "stream",
          "name": "stdout",
          "text": [
            "[1, 2, 3, 4, 10]\n"
          ]
        }
      ]
    },
    {
      "cell_type": "code",
      "source": [
        "#8.Write a code to remove the number 3 from the list [1, 2, 3, 4, 5]\n",
        "\n",
        "my_list = [1, 2, 3, 4, 5]\n",
        "my_list.remove(3)\n",
        "\n",
        "print(my_list)\n"
      ],
      "metadata": {
        "colab": {
          "base_uri": "https://localhost:8080/"
        },
        "id": "32h1N1p6BvkL",
        "outputId": "aff890ca-9ce2-405b-a064-861327cf89d6"
      },
      "execution_count": 11,
      "outputs": [
        {
          "output_type": "stream",
          "name": "stdout",
          "text": [
            "[1, 2, 4, 5]\n"
          ]
        }
      ]
    },
    {
      "cell_type": "code",
      "source": [
        "#9.Write a code to access the second element in the list ['a', 'b', 'c', 'd']\n",
        "\n",
        "my_list = ['a', 'b', 'c', 'd']\n",
        "second_element = my_list[1]\n",
        "\n",
        "print(second_element)"
      ],
      "metadata": {
        "colab": {
          "base_uri": "https://localhost:8080/"
        },
        "id": "5zZU-cXCB612",
        "outputId": "45d7012b-bb7e-4367-8988-ee6cedac0c40"
      },
      "execution_count": 12,
      "outputs": [
        {
          "output_type": "stream",
          "name": "stdout",
          "text": [
            "b\n"
          ]
        }
      ]
    },
    {
      "cell_type": "code",
      "source": [
        "#10.Write a code to reverse the list [10, 20, 30, 40, 50].\n",
        "\n",
        "my_list = [10, 20, 30, 40, 50]\n",
        "reversed_list = my_list[::-1]\n",
        "\n",
        "print(reversed_list)"
      ],
      "metadata": {
        "colab": {
          "base_uri": "https://localhost:8080/"
        },
        "id": "oTYuK7DpCC3O",
        "outputId": "ff94ac4f-8387-4880-fe55-89a3048483a2"
      },
      "execution_count": 13,
      "outputs": [
        {
          "output_type": "stream",
          "name": "stdout",
          "text": [
            "[50, 40, 30, 20, 10]\n"
          ]
        }
      ]
    },
    {
      "cell_type": "code",
      "source": [
        "#11.Write a code to create a tuple with the elements 10, 20, 30 and print it\n",
        "\n",
        "my_tuple = (10, 20, 30)\n",
        "print(my_tuple)"
      ],
      "metadata": {
        "colab": {
          "base_uri": "https://localhost:8080/"
        },
        "id": "UxZkzTggCLvW",
        "outputId": "287a41fa-51f8-434c-d00c-ef30cc5cd8d5"
      },
      "execution_count": 14,
      "outputs": [
        {
          "output_type": "stream",
          "name": "stdout",
          "text": [
            "(10, 20, 30)\n"
          ]
        }
      ]
    },
    {
      "cell_type": "code",
      "source": [
        "#12.Write a code to access the first element of the tuple ('apple', 'banana', 'cherry').\n",
        "\n",
        "my_tuple = ('apple', 'banana', 'cherry')\n",
        "first_element = my_tuple[0]\n",
        "\n",
        "print(first_element)"
      ],
      "metadata": {
        "colab": {
          "base_uri": "https://localhost:8080/"
        },
        "id": "pkb-WYldCSqP",
        "outputId": "f5a26808-f7a9-4833-9459-e852cbedb8df"
      },
      "execution_count": 15,
      "outputs": [
        {
          "output_type": "stream",
          "name": "stdout",
          "text": [
            "apple\n"
          ]
        }
      ]
    },
    {
      "cell_type": "code",
      "source": [
        "#13.Write a code to count how many times the number 2 appears in the tuple (1, 2, 3, 2, 4, 2).\n",
        "\n",
        "my_tuple = (1, 2, 3, 2, 4, 2)\n",
        "count = my_tuple.count(2)\n",
        "\n",
        "print(\"The number 2 appears\", count, \"times in the tuple.\")"
      ],
      "metadata": {
        "colab": {
          "base_uri": "https://localhost:8080/"
        },
        "id": "Fflw0KyaCiQB",
        "outputId": "04427d0c-f567-47dd-bb38-c1cac0f27026"
      },
      "execution_count": 16,
      "outputs": [
        {
          "output_type": "stream",
          "name": "stdout",
          "text": [
            "The number 2 appears 3 times in the tuple.\n"
          ]
        }
      ]
    },
    {
      "cell_type": "code",
      "source": [
        "#14. Write a code to find the index of the element \"cat\" in the tuple ('dog', 'cat', 'rabbit').\n",
        "\n",
        "my_tuple = ('dog', 'cat', 'rabbit')\n",
        "index_of_cat = my_tuple.index('cat')\n",
        "\n",
        "print(\"The index of 'cat' is:\", index_of_cat)"
      ],
      "metadata": {
        "colab": {
          "base_uri": "https://localhost:8080/"
        },
        "id": "siSs6iWHCszU",
        "outputId": "5d3ab121-7e4d-4330-e633-5eac5d43e053"
      },
      "execution_count": 17,
      "outputs": [
        {
          "output_type": "stream",
          "name": "stdout",
          "text": [
            "The index of 'cat' is: 1\n"
          ]
        }
      ]
    },
    {
      "cell_type": "code",
      "source": [
        "#15.Write a code to check if the element \"banana\" is in the tuple ('apple', 'orange', 'banana').\n",
        "\n",
        "my_tuple = ('apple', 'orange', 'banana')\n",
        "\n",
        "if \"banana\" in my_tuple:\n",
        "    print(\"banana is in the tuple\")\n",
        "else:\n",
        "    print(\"banana is not in the tuple\")"
      ],
      "metadata": {
        "colab": {
          "base_uri": "https://localhost:8080/"
        },
        "id": "W2zlyiF6DGDx",
        "outputId": "9d56afbf-9ff2-4af3-ff3f-0a3686a94aba"
      },
      "execution_count": 18,
      "outputs": [
        {
          "output_type": "stream",
          "name": "stdout",
          "text": [
            "banana is in the tuple\n"
          ]
        }
      ]
    },
    {
      "cell_type": "code",
      "source": [
        "#16.Write a code to create a set with the elements 1, 2, 3, 4, 5 and print it.\n",
        "\n",
        "my_set = {1, 2, 3, 4, 5}\n",
        "print(my_set)"
      ],
      "metadata": {
        "colab": {
          "base_uri": "https://localhost:8080/"
        },
        "id": "EdhCfo3cDNXQ",
        "outputId": "0f73b11b-1049-4f28-e7fe-8644529ad0b7"
      },
      "execution_count": 19,
      "outputs": [
        {
          "output_type": "stream",
          "name": "stdout",
          "text": [
            "{1, 2, 3, 4, 5}\n"
          ]
        }
      ]
    },
    {
      "cell_type": "code",
      "source": [
        "#17.Write a code to add the element 6 to the set {1, 2, 3, 4}.\n",
        "\n",
        "my_set = {1, 2, 3, 4}\n",
        "my_set.add(6)\n",
        "\n",
        "print(my_set)"
      ],
      "metadata": {
        "colab": {
          "base_uri": "https://localhost:8080/"
        },
        "id": "TP-TLDP8DWUo",
        "outputId": "ee931277-f86f-4c2a-e130-001cdfbf9c45"
      },
      "execution_count": 20,
      "outputs": [
        {
          "output_type": "stream",
          "name": "stdout",
          "text": [
            "{1, 2, 3, 4, 6}\n"
          ]
        }
      ]
    },
    {
      "cell_type": "code",
      "source": [
        "#18.Write a code to create a tuple with the elements 10, 20, 30 and print it.\n",
        "\n",
        "my_tuple = (10, 20, 30)\n",
        "print(my_tuple)"
      ],
      "metadata": {
        "colab": {
          "base_uri": "https://localhost:8080/"
        },
        "id": "6uRWbxxxDiuk",
        "outputId": "3d400b1e-7fcf-42ca-b7e6-30e05e8e3c31"
      },
      "execution_count": 21,
      "outputs": [
        {
          "output_type": "stream",
          "name": "stdout",
          "text": [
            "(10, 20, 30)\n"
          ]
        }
      ]
    },
    {
      "cell_type": "code",
      "source": [
        "#19.Write a code to access the first element of the tuple ('apple', 'banana', 'cherry').\n",
        "\n",
        "my_tuple = ('apple', 'banana', 'cherry')\n",
        "first_element = my_tuple[0]\n",
        "\n",
        "print(first_element)"
      ],
      "metadata": {
        "colab": {
          "base_uri": "https://localhost:8080/"
        },
        "id": "pynqCynmDq2k",
        "outputId": "99cbbf4a-cc9e-4101-ddb4-e06858414142"
      },
      "execution_count": 22,
      "outputs": [
        {
          "output_type": "stream",
          "name": "stdout",
          "text": [
            "apple\n"
          ]
        }
      ]
    },
    {
      "cell_type": "code",
      "source": [
        "#20.Write a code to count how many times the number 2 appears in the tuple (1, 2, 3, 2, 4, 2).\n",
        "\n",
        "my_tuple = (1, 2, 3, 2, 4, 2)\n",
        "count = my_tuple.count(2)\n",
        "\n",
        "print(\"The number 2 appears\", count, \"times in the tuple.\")"
      ],
      "metadata": {
        "colab": {
          "base_uri": "https://localhost:8080/"
        },
        "id": "uyJDHtQBDxsL",
        "outputId": "8e701e9b-a75c-4f80-fe0e-5b108ed4617b"
      },
      "execution_count": 23,
      "outputs": [
        {
          "output_type": "stream",
          "name": "stdout",
          "text": [
            "The number 2 appears 3 times in the tuple.\n"
          ]
        }
      ]
    },
    {
      "cell_type": "code",
      "source": [
        "#21.Write a code to find the index of the element \"cat\" in the tuple ('dog', 'cat', 'rabbit').\n",
        "\n",
        "my_tuple = ('dog', 'cat', 'rabbit')\n",
        "index_of_cat = my_tuple.index('cat')\n",
        "\n",
        "print(\"The index of 'cat' is:\", index_of_cat)"
      ],
      "metadata": {
        "colab": {
          "base_uri": "https://localhost:8080/"
        },
        "id": "xGTSppgHED0z",
        "outputId": "e48527a4-0a48-4b17-b48f-cf8c9928618d"
      },
      "execution_count": 24,
      "outputs": [
        {
          "output_type": "stream",
          "name": "stdout",
          "text": [
            "The index of 'cat' is: 1\n"
          ]
        }
      ]
    },
    {
      "cell_type": "code",
      "source": [
        "#22.Write a code to check if the element \"banana\" is in the tuple ('apple', 'orange', 'banana').\n",
        "\n",
        "my_tuple = ('apple', 'orange', 'banana')\n",
        "\n",
        "if \"banana\" in my_tuple:\n",
        "    print(\"banana is in the tuple\")\n",
        "else:\n",
        "    print(\"banana is not in the tuple\")"
      ],
      "metadata": {
        "colab": {
          "base_uri": "https://localhost:8080/"
        },
        "id": "zhzkEIGNEMOg",
        "outputId": "0cd84210-ca1c-4f0b-98e2-cabfc3c4ade3"
      },
      "execution_count": 25,
      "outputs": [
        {
          "output_type": "stream",
          "name": "stdout",
          "text": [
            "banana is in the tuple\n"
          ]
        }
      ]
    },
    {
      "cell_type": "code",
      "source": [
        "#23.Write a code to create a set with the elements 1, 2, 3, 4, 5 and print it.\n",
        "\n",
        "my_set = {1, 2, 3, 4, 5}\n",
        "print(my_set)"
      ],
      "metadata": {
        "colab": {
          "base_uri": "https://localhost:8080/"
        },
        "id": "56D16RjlES3F",
        "outputId": "7609a2e1-2203-4a57-ad15-83e312dec7de"
      },
      "execution_count": 26,
      "outputs": [
        {
          "output_type": "stream",
          "name": "stdout",
          "text": [
            "{1, 2, 3, 4, 5}\n"
          ]
        }
      ]
    },
    {
      "cell_type": "code",
      "source": [
        "#24. Write a code to add the element 6 to the set {1, 2, 3, 4}.\n",
        "\n",
        "my_set = {1, 2, 3, 4}\n",
        "my_set.add(6)\n",
        "\n",
        "print(my_set)"
      ],
      "metadata": {
        "colab": {
          "base_uri": "https://localhost:8080/"
        },
        "id": "3z58zjveEkAS",
        "outputId": "00cacd57-00bc-4390-9be5-42640b388810"
      },
      "execution_count": 27,
      "outputs": [
        {
          "output_type": "stream",
          "name": "stdout",
          "text": [
            "{1, 2, 3, 4, 6}\n"
          ]
        }
      ]
    }
  ]
}